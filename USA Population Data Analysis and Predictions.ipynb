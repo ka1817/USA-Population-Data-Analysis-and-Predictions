{
 "cells": [
  {
   "cell_type": "markdown",
   "id": "56780c4a",
   "metadata": {},
   "source": [
    "# USA Population Data Analysis And Predictions"
   ]
  },
  {
   "cell_type": "code",
   "execution_count": 177,
   "id": "2aea1d67",
   "metadata": {},
   "outputs": [],
   "source": [
    "import pandas as pd \n",
    "import numpy as np\n",
    "import seaborn as sns\n",
    "import matplotlib.pyplot as plt"
   ]
  },
  {
   "cell_type": "code",
   "execution_count": 178,
   "id": "50fccf65",
   "metadata": {},
   "outputs": [],
   "source": [
    "df=pd.read_csv(\"C:\\\\Users\\\\saipr\\\\Downloads\\\\Population of all US Cities 2024.csv\")"
   ]
  },
  {
   "cell_type": "code",
   "execution_count": 179,
   "id": "1501770d",
   "metadata": {},
   "outputs": [
    {
     "data": {
      "text/html": [
       "<div>\n",
       "<style scoped>\n",
       "    .dataframe tbody tr th:only-of-type {\n",
       "        vertical-align: middle;\n",
       "    }\n",
       "\n",
       "    .dataframe tbody tr th {\n",
       "        vertical-align: top;\n",
       "    }\n",
       "\n",
       "    .dataframe thead th {\n",
       "        text-align: right;\n",
       "    }\n",
       "</style>\n",
       "<table border=\"1\" class=\"dataframe\">\n",
       "  <thead>\n",
       "    <tr style=\"text-align: right;\">\n",
       "      <th></th>\n",
       "      <th>Rank</th>\n",
       "      <th>US City</th>\n",
       "      <th>US State</th>\n",
       "      <th>Population 2024</th>\n",
       "      <th>Population 2020</th>\n",
       "      <th>Annual Change</th>\n",
       "      <th>Density (/mile2)</th>\n",
       "      <th>Area (mile2)</th>\n",
       "    </tr>\n",
       "  </thead>\n",
       "  <tbody>\n",
       "    <tr>\n",
       "      <th>0</th>\n",
       "      <td>1</td>\n",
       "      <td>New York</td>\n",
       "      <td>New York</td>\n",
       "      <td>8097282</td>\n",
       "      <td>8740292</td>\n",
       "      <td>-0.0195</td>\n",
       "      <td>26950</td>\n",
       "      <td>300.46</td>\n",
       "    </tr>\n",
       "    <tr>\n",
       "      <th>1</th>\n",
       "      <td>2</td>\n",
       "      <td>Los Angeles</td>\n",
       "      <td>California</td>\n",
       "      <td>3795936</td>\n",
       "      <td>3895848</td>\n",
       "      <td>-0.0065</td>\n",
       "      <td>8068</td>\n",
       "      <td>470.52</td>\n",
       "    </tr>\n",
       "    <tr>\n",
       "      <th>2</th>\n",
       "      <td>3</td>\n",
       "      <td>Chicago</td>\n",
       "      <td>Illinois</td>\n",
       "      <td>2638159</td>\n",
       "      <td>2743329</td>\n",
       "      <td>-0.0099</td>\n",
       "      <td>11584</td>\n",
       "      <td>227.75</td>\n",
       "    </tr>\n",
       "    <tr>\n",
       "      <th>3</th>\n",
       "      <td>4</td>\n",
       "      <td>Houston</td>\n",
       "      <td>Texas</td>\n",
       "      <td>2319119</td>\n",
       "      <td>2299269</td>\n",
       "      <td>0.0021</td>\n",
       "      <td>3620</td>\n",
       "      <td>640.61</td>\n",
       "    </tr>\n",
       "    <tr>\n",
       "      <th>4</th>\n",
       "      <td>5</td>\n",
       "      <td>Phoenix</td>\n",
       "      <td>Arizona</td>\n",
       "      <td>1662607</td>\n",
       "      <td>1612459</td>\n",
       "      <td>0.0076</td>\n",
       "      <td>3208</td>\n",
       "      <td>518.33</td>\n",
       "    </tr>\n",
       "    <tr>\n",
       "      <th>...</th>\n",
       "      <td>...</td>\n",
       "      <td>...</td>\n",
       "      <td>...</td>\n",
       "      <td>...</td>\n",
       "      <td>...</td>\n",
       "      <td>...</td>\n",
       "      <td>...</td>\n",
       "      <td>...</td>\n",
       "    </tr>\n",
       "    <tr>\n",
       "      <th>295</th>\n",
       "      <td>296</td>\n",
       "      <td>Temecula</td>\n",
       "      <td>California</td>\n",
       "      <td>110878</td>\n",
       "      <td>110094</td>\n",
       "      <td>0.0018</td>\n",
       "      <td>2982</td>\n",
       "      <td>37.18</td>\n",
       "    </tr>\n",
       "    <tr>\n",
       "      <th>296</th>\n",
       "      <td>297</td>\n",
       "      <td>Pueblo</td>\n",
       "      <td>Colorado</td>\n",
       "      <td>110803</td>\n",
       "      <td>111899</td>\n",
       "      <td>-0.0025</td>\n",
       "      <td>1961</td>\n",
       "      <td>56.49</td>\n",
       "    </tr>\n",
       "    <tr>\n",
       "      <th>297</th>\n",
       "      <td>298</td>\n",
       "      <td>Sparks</td>\n",
       "      <td>Nevada</td>\n",
       "      <td>110801</td>\n",
       "      <td>108889</td>\n",
       "      <td>0.0043</td>\n",
       "      <td>3036</td>\n",
       "      <td>36.49</td>\n",
       "    </tr>\n",
       "    <tr>\n",
       "      <th>298</th>\n",
       "      <td>299</td>\n",
       "      <td>Miami Gardens</td>\n",
       "      <td>Florida</td>\n",
       "      <td>110463</td>\n",
       "      <td>111477</td>\n",
       "      <td>-0.0023</td>\n",
       "      <td>5979</td>\n",
       "      <td>18.48</td>\n",
       "    </tr>\n",
       "    <tr>\n",
       "      <th>299</th>\n",
       "      <td>300</td>\n",
       "      <td>Santa Maria</td>\n",
       "      <td>California</td>\n",
       "      <td>110055</td>\n",
       "      <td>109782</td>\n",
       "      <td>0.0006</td>\n",
       "      <td>4825</td>\n",
       "      <td>22.81</td>\n",
       "    </tr>\n",
       "  </tbody>\n",
       "</table>\n",
       "<p>300 rows × 8 columns</p>\n",
       "</div>"
      ],
      "text/plain": [
       "     Rank        US City    US State  Population 2024  Population 2020  \\\n",
       "0       1       New York    New York          8097282          8740292   \n",
       "1       2    Los Angeles  California          3795936          3895848   \n",
       "2       3        Chicago    Illinois          2638159          2743329   \n",
       "3       4        Houston       Texas          2319119          2299269   \n",
       "4       5        Phoenix     Arizona          1662607          1612459   \n",
       "..    ...            ...         ...              ...              ...   \n",
       "295   296       Temecula  California           110878           110094   \n",
       "296   297         Pueblo    Colorado           110803           111899   \n",
       "297   298         Sparks      Nevada           110801           108889   \n",
       "298   299  Miami Gardens     Florida           110463           111477   \n",
       "299   300    Santa Maria  California           110055           109782   \n",
       "\n",
       "     Annual Change  Density (/mile2)  Area (mile2)  \n",
       "0          -0.0195             26950        300.46  \n",
       "1          -0.0065              8068        470.52  \n",
       "2          -0.0099             11584        227.75  \n",
       "3           0.0021              3620        640.61  \n",
       "4           0.0076              3208        518.33  \n",
       "..             ...               ...           ...  \n",
       "295         0.0018              2982         37.18  \n",
       "296        -0.0025              1961         56.49  \n",
       "297         0.0043              3036         36.49  \n",
       "298        -0.0023              5979         18.48  \n",
       "299         0.0006              4825         22.81  \n",
       "\n",
       "[300 rows x 8 columns]"
      ]
     },
     "execution_count": 179,
     "metadata": {},
     "output_type": "execute_result"
    }
   ],
   "source": [
    "df"
   ]
  },
  {
   "cell_type": "code",
   "execution_count": 180,
   "id": "7cab869a",
   "metadata": {},
   "outputs": [
    {
     "data": {
      "text/html": [
       "<div>\n",
       "<style scoped>\n",
       "    .dataframe tbody tr th:only-of-type {\n",
       "        vertical-align: middle;\n",
       "    }\n",
       "\n",
       "    .dataframe tbody tr th {\n",
       "        vertical-align: top;\n",
       "    }\n",
       "\n",
       "    .dataframe thead th {\n",
       "        text-align: right;\n",
       "    }\n",
       "</style>\n",
       "<table border=\"1\" class=\"dataframe\">\n",
       "  <thead>\n",
       "    <tr style=\"text-align: right;\">\n",
       "      <th></th>\n",
       "      <th>Rank</th>\n",
       "      <th>US City</th>\n",
       "      <th>US State</th>\n",
       "      <th>Population 2024</th>\n",
       "      <th>Population 2020</th>\n",
       "      <th>Annual Change</th>\n",
       "      <th>Density (/mile2)</th>\n",
       "      <th>Area (mile2)</th>\n",
       "    </tr>\n",
       "  </thead>\n",
       "  <tbody>\n",
       "    <tr>\n",
       "      <th>0</th>\n",
       "      <td>1</td>\n",
       "      <td>New York</td>\n",
       "      <td>New York</td>\n",
       "      <td>8097282</td>\n",
       "      <td>8740292</td>\n",
       "      <td>-0.0195</td>\n",
       "      <td>26950</td>\n",
       "      <td>300.46</td>\n",
       "    </tr>\n",
       "    <tr>\n",
       "      <th>1</th>\n",
       "      <td>2</td>\n",
       "      <td>Los Angeles</td>\n",
       "      <td>California</td>\n",
       "      <td>3795936</td>\n",
       "      <td>3895848</td>\n",
       "      <td>-0.0065</td>\n",
       "      <td>8068</td>\n",
       "      <td>470.52</td>\n",
       "    </tr>\n",
       "    <tr>\n",
       "      <th>2</th>\n",
       "      <td>3</td>\n",
       "      <td>Chicago</td>\n",
       "      <td>Illinois</td>\n",
       "      <td>2638159</td>\n",
       "      <td>2743329</td>\n",
       "      <td>-0.0099</td>\n",
       "      <td>11584</td>\n",
       "      <td>227.75</td>\n",
       "    </tr>\n",
       "    <tr>\n",
       "      <th>3</th>\n",
       "      <td>4</td>\n",
       "      <td>Houston</td>\n",
       "      <td>Texas</td>\n",
       "      <td>2319119</td>\n",
       "      <td>2299269</td>\n",
       "      <td>0.0021</td>\n",
       "      <td>3620</td>\n",
       "      <td>640.61</td>\n",
       "    </tr>\n",
       "    <tr>\n",
       "      <th>4</th>\n",
       "      <td>5</td>\n",
       "      <td>Phoenix</td>\n",
       "      <td>Arizona</td>\n",
       "      <td>1662607</td>\n",
       "      <td>1612459</td>\n",
       "      <td>0.0076</td>\n",
       "      <td>3208</td>\n",
       "      <td>518.33</td>\n",
       "    </tr>\n",
       "  </tbody>\n",
       "</table>\n",
       "</div>"
      ],
      "text/plain": [
       "   Rank      US City    US State  Population 2024  Population 2020  \\\n",
       "0     1     New York    New York          8097282          8740292   \n",
       "1     2  Los Angeles  California          3795936          3895848   \n",
       "2     3      Chicago    Illinois          2638159          2743329   \n",
       "3     4      Houston       Texas          2319119          2299269   \n",
       "4     5      Phoenix     Arizona          1662607          1612459   \n",
       "\n",
       "   Annual Change  Density (/mile2)  Area (mile2)  \n",
       "0        -0.0195             26950        300.46  \n",
       "1        -0.0065              8068        470.52  \n",
       "2        -0.0099             11584        227.75  \n",
       "3         0.0021              3620        640.61  \n",
       "4         0.0076              3208        518.33  "
      ]
     },
     "execution_count": 180,
     "metadata": {},
     "output_type": "execute_result"
    }
   ],
   "source": [
    "df.head()"
   ]
  },
  {
   "cell_type": "code",
   "execution_count": 181,
   "id": "8ca52acd",
   "metadata": {},
   "outputs": [
    {
     "data": {
      "text/html": [
       "<div>\n",
       "<style scoped>\n",
       "    .dataframe tbody tr th:only-of-type {\n",
       "        vertical-align: middle;\n",
       "    }\n",
       "\n",
       "    .dataframe tbody tr th {\n",
       "        vertical-align: top;\n",
       "    }\n",
       "\n",
       "    .dataframe thead th {\n",
       "        text-align: right;\n",
       "    }\n",
       "</style>\n",
       "<table border=\"1\" class=\"dataframe\">\n",
       "  <thead>\n",
       "    <tr style=\"text-align: right;\">\n",
       "      <th></th>\n",
       "      <th>Rank</th>\n",
       "      <th>US City</th>\n",
       "      <th>US State</th>\n",
       "      <th>Population 2024</th>\n",
       "      <th>Population 2020</th>\n",
       "      <th>Annual Change</th>\n",
       "      <th>Density (/mile2)</th>\n",
       "      <th>Area (mile2)</th>\n",
       "    </tr>\n",
       "  </thead>\n",
       "  <tbody>\n",
       "    <tr>\n",
       "      <th>0</th>\n",
       "      <td>False</td>\n",
       "      <td>False</td>\n",
       "      <td>False</td>\n",
       "      <td>False</td>\n",
       "      <td>False</td>\n",
       "      <td>False</td>\n",
       "      <td>False</td>\n",
       "      <td>False</td>\n",
       "    </tr>\n",
       "    <tr>\n",
       "      <th>1</th>\n",
       "      <td>False</td>\n",
       "      <td>False</td>\n",
       "      <td>False</td>\n",
       "      <td>False</td>\n",
       "      <td>False</td>\n",
       "      <td>False</td>\n",
       "      <td>False</td>\n",
       "      <td>False</td>\n",
       "    </tr>\n",
       "    <tr>\n",
       "      <th>2</th>\n",
       "      <td>False</td>\n",
       "      <td>False</td>\n",
       "      <td>False</td>\n",
       "      <td>False</td>\n",
       "      <td>False</td>\n",
       "      <td>False</td>\n",
       "      <td>False</td>\n",
       "      <td>False</td>\n",
       "    </tr>\n",
       "    <tr>\n",
       "      <th>3</th>\n",
       "      <td>False</td>\n",
       "      <td>False</td>\n",
       "      <td>False</td>\n",
       "      <td>False</td>\n",
       "      <td>False</td>\n",
       "      <td>False</td>\n",
       "      <td>False</td>\n",
       "      <td>False</td>\n",
       "    </tr>\n",
       "    <tr>\n",
       "      <th>4</th>\n",
       "      <td>False</td>\n",
       "      <td>False</td>\n",
       "      <td>False</td>\n",
       "      <td>False</td>\n",
       "      <td>False</td>\n",
       "      <td>False</td>\n",
       "      <td>False</td>\n",
       "      <td>False</td>\n",
       "    </tr>\n",
       "    <tr>\n",
       "      <th>...</th>\n",
       "      <td>...</td>\n",
       "      <td>...</td>\n",
       "      <td>...</td>\n",
       "      <td>...</td>\n",
       "      <td>...</td>\n",
       "      <td>...</td>\n",
       "      <td>...</td>\n",
       "      <td>...</td>\n",
       "    </tr>\n",
       "    <tr>\n",
       "      <th>295</th>\n",
       "      <td>False</td>\n",
       "      <td>False</td>\n",
       "      <td>False</td>\n",
       "      <td>False</td>\n",
       "      <td>False</td>\n",
       "      <td>False</td>\n",
       "      <td>False</td>\n",
       "      <td>False</td>\n",
       "    </tr>\n",
       "    <tr>\n",
       "      <th>296</th>\n",
       "      <td>False</td>\n",
       "      <td>False</td>\n",
       "      <td>False</td>\n",
       "      <td>False</td>\n",
       "      <td>False</td>\n",
       "      <td>False</td>\n",
       "      <td>False</td>\n",
       "      <td>False</td>\n",
       "    </tr>\n",
       "    <tr>\n",
       "      <th>297</th>\n",
       "      <td>False</td>\n",
       "      <td>False</td>\n",
       "      <td>False</td>\n",
       "      <td>False</td>\n",
       "      <td>False</td>\n",
       "      <td>False</td>\n",
       "      <td>False</td>\n",
       "      <td>False</td>\n",
       "    </tr>\n",
       "    <tr>\n",
       "      <th>298</th>\n",
       "      <td>False</td>\n",
       "      <td>False</td>\n",
       "      <td>False</td>\n",
       "      <td>False</td>\n",
       "      <td>False</td>\n",
       "      <td>False</td>\n",
       "      <td>False</td>\n",
       "      <td>False</td>\n",
       "    </tr>\n",
       "    <tr>\n",
       "      <th>299</th>\n",
       "      <td>False</td>\n",
       "      <td>False</td>\n",
       "      <td>False</td>\n",
       "      <td>False</td>\n",
       "      <td>False</td>\n",
       "      <td>False</td>\n",
       "      <td>False</td>\n",
       "      <td>False</td>\n",
       "    </tr>\n",
       "  </tbody>\n",
       "</table>\n",
       "<p>300 rows × 8 columns</p>\n",
       "</div>"
      ],
      "text/plain": [
       "      Rank  US City  US State  Population 2024  Population 2020  \\\n",
       "0    False    False     False            False            False   \n",
       "1    False    False     False            False            False   \n",
       "2    False    False     False            False            False   \n",
       "3    False    False     False            False            False   \n",
       "4    False    False     False            False            False   \n",
       "..     ...      ...       ...              ...              ...   \n",
       "295  False    False     False            False            False   \n",
       "296  False    False     False            False            False   \n",
       "297  False    False     False            False            False   \n",
       "298  False    False     False            False            False   \n",
       "299  False    False     False            False            False   \n",
       "\n",
       "     Annual Change  Density (/mile2)  Area (mile2)  \n",
       "0            False             False         False  \n",
       "1            False             False         False  \n",
       "2            False             False         False  \n",
       "3            False             False         False  \n",
       "4            False             False         False  \n",
       "..             ...               ...           ...  \n",
       "295          False             False         False  \n",
       "296          False             False         False  \n",
       "297          False             False         False  \n",
       "298          False             False         False  \n",
       "299          False             False         False  \n",
       "\n",
       "[300 rows x 8 columns]"
      ]
     },
     "execution_count": 181,
     "metadata": {},
     "output_type": "execute_result"
    }
   ],
   "source": [
    "df.isnull()"
   ]
  },
  {
   "cell_type": "code",
   "execution_count": 182,
   "id": "7f8d2015",
   "metadata": {},
   "outputs": [
    {
     "data": {
      "text/plain": [
       "Rank                0\n",
       "US City             0\n",
       "US State            0\n",
       "Population 2024     0\n",
       "Population 2020     0\n",
       "Annual Change       0\n",
       "Density (/mile2)    0\n",
       "Area (mile2)        0\n",
       "dtype: int64"
      ]
     },
     "execution_count": 182,
     "metadata": {},
     "output_type": "execute_result"
    }
   ],
   "source": [
    "df.isnull().sum()"
   ]
  },
  {
   "cell_type": "code",
   "execution_count": 183,
   "id": "94be9afc",
   "metadata": {},
   "outputs": [
    {
     "data": {
      "text/html": [
       "<div>\n",
       "<style scoped>\n",
       "    .dataframe tbody tr th:only-of-type {\n",
       "        vertical-align: middle;\n",
       "    }\n",
       "\n",
       "    .dataframe tbody tr th {\n",
       "        vertical-align: top;\n",
       "    }\n",
       "\n",
       "    .dataframe thead th {\n",
       "        text-align: right;\n",
       "    }\n",
       "</style>\n",
       "<table border=\"1\" class=\"dataframe\">\n",
       "  <thead>\n",
       "    <tr style=\"text-align: right;\">\n",
       "      <th></th>\n",
       "      <th>Rank</th>\n",
       "      <th>Population 2024</th>\n",
       "      <th>Population 2020</th>\n",
       "      <th>Annual Change</th>\n",
       "      <th>Density (/mile2)</th>\n",
       "      <th>Area (mile2)</th>\n",
       "    </tr>\n",
       "  </thead>\n",
       "  <tbody>\n",
       "    <tr>\n",
       "      <th>count</th>\n",
       "      <td>300.000000</td>\n",
       "      <td>3.000000e+02</td>\n",
       "      <td>3.000000e+02</td>\n",
       "      <td>300.000000</td>\n",
       "      <td>300.000000</td>\n",
       "      <td>300.000000</td>\n",
       "    </tr>\n",
       "    <tr>\n",
       "      <th>mean</th>\n",
       "      <td>150.500000</td>\n",
       "      <td>3.155774e+05</td>\n",
       "      <td>3.161020e+05</td>\n",
       "      <td>0.002964</td>\n",
       "      <td>4093.860000</td>\n",
       "      <td>100.978833</td>\n",
       "    </tr>\n",
       "    <tr>\n",
       "      <th>std</th>\n",
       "      <td>86.746758</td>\n",
       "      <td>5.780326e+05</td>\n",
       "      <td>6.104227e+05</td>\n",
       "      <td>0.012350</td>\n",
       "      <td>3279.190974</td>\n",
       "      <td>139.119369</td>\n",
       "    </tr>\n",
       "    <tr>\n",
       "      <th>min</th>\n",
       "      <td>1.000000</td>\n",
       "      <td>1.100550e+05</td>\n",
       "      <td>9.125500e+04</td>\n",
       "      <td>-0.025400</td>\n",
       "      <td>167.000000</td>\n",
       "      <td>6.400000</td>\n",
       "    </tr>\n",
       "    <tr>\n",
       "      <th>25%</th>\n",
       "      <td>75.750000</td>\n",
       "      <td>1.319160e+05</td>\n",
       "      <td>1.264332e+05</td>\n",
       "      <td>-0.005050</td>\n",
       "      <td>2197.500000</td>\n",
       "      <td>37.765000</td>\n",
       "    </tr>\n",
       "    <tr>\n",
       "      <th>50%</th>\n",
       "      <td>150.500000</td>\n",
       "      <td>1.801610e+05</td>\n",
       "      <td>1.776935e+05</td>\n",
       "      <td>0.000750</td>\n",
       "      <td>3340.500000</td>\n",
       "      <td>61.690000</td>\n",
       "    </tr>\n",
       "    <tr>\n",
       "      <th>75%</th>\n",
       "      <td>225.250000</td>\n",
       "      <td>2.826210e+05</td>\n",
       "      <td>2.792742e+05</td>\n",
       "      <td>0.008100</td>\n",
       "      <td>4682.250000</td>\n",
       "      <td>110.532500</td>\n",
       "    </tr>\n",
       "    <tr>\n",
       "      <th>max</th>\n",
       "      <td>300.000000</td>\n",
       "      <td>8.097282e+06</td>\n",
       "      <td>8.740292e+06</td>\n",
       "      <td>0.058000</td>\n",
       "      <td>26950.000000</td>\n",
       "      <td>1707.000000</td>\n",
       "    </tr>\n",
       "  </tbody>\n",
       "</table>\n",
       "</div>"
      ],
      "text/plain": [
       "             Rank  Population 2024  Population 2020  Annual Change  \\\n",
       "count  300.000000     3.000000e+02     3.000000e+02     300.000000   \n",
       "mean   150.500000     3.155774e+05     3.161020e+05       0.002964   \n",
       "std     86.746758     5.780326e+05     6.104227e+05       0.012350   \n",
       "min      1.000000     1.100550e+05     9.125500e+04      -0.025400   \n",
       "25%     75.750000     1.319160e+05     1.264332e+05      -0.005050   \n",
       "50%    150.500000     1.801610e+05     1.776935e+05       0.000750   \n",
       "75%    225.250000     2.826210e+05     2.792742e+05       0.008100   \n",
       "max    300.000000     8.097282e+06     8.740292e+06       0.058000   \n",
       "\n",
       "       Density (/mile2)  Area (mile2)  \n",
       "count        300.000000    300.000000  \n",
       "mean        4093.860000    100.978833  \n",
       "std         3279.190974    139.119369  \n",
       "min          167.000000      6.400000  \n",
       "25%         2197.500000     37.765000  \n",
       "50%         3340.500000     61.690000  \n",
       "75%         4682.250000    110.532500  \n",
       "max        26950.000000   1707.000000  "
      ]
     },
     "execution_count": 183,
     "metadata": {},
     "output_type": "execute_result"
    }
   ],
   "source": [
    "df.describe()"
   ]
  },
  {
   "cell_type": "code",
   "execution_count": 184,
   "id": "87fe82b5",
   "metadata": {},
   "outputs": [
    {
     "data": {
      "text/plain": [
       "Index(['Rank', 'US City', 'US State', 'Population 2024', 'Population 2020',\n",
       "       'Annual Change', 'Density (/mile2)', 'Area (mile2)'],\n",
       "      dtype='object')"
      ]
     },
     "execution_count": 184,
     "metadata": {},
     "output_type": "execute_result"
    }
   ],
   "source": [
    "df.columns"
   ]
  },
  {
   "cell_type": "code",
   "execution_count": 185,
   "id": "753fe746",
   "metadata": {},
   "outputs": [
    {
     "data": {
      "text/html": [
       "<div>\n",
       "<style scoped>\n",
       "    .dataframe tbody tr th:only-of-type {\n",
       "        vertical-align: middle;\n",
       "    }\n",
       "\n",
       "    .dataframe tbody tr th {\n",
       "        vertical-align: top;\n",
       "    }\n",
       "\n",
       "    .dataframe thead th {\n",
       "        text-align: right;\n",
       "    }\n",
       "</style>\n",
       "<table border=\"1\" class=\"dataframe\">\n",
       "  <thead>\n",
       "    <tr style=\"text-align: right;\">\n",
       "      <th></th>\n",
       "      <th>Rank</th>\n",
       "      <th>US City</th>\n",
       "      <th>US State</th>\n",
       "      <th>Population 2024</th>\n",
       "      <th>Population 2020</th>\n",
       "      <th>Annual Change</th>\n",
       "      <th>Density (/mile2)</th>\n",
       "      <th>Area (mile2)</th>\n",
       "    </tr>\n",
       "  </thead>\n",
       "  <tbody>\n",
       "    <tr>\n",
       "      <th>0</th>\n",
       "      <td>1</td>\n",
       "      <td>New York</td>\n",
       "      <td>New York</td>\n",
       "      <td>8097282</td>\n",
       "      <td>8740292</td>\n",
       "      <td>-0.0195</td>\n",
       "      <td>26950</td>\n",
       "      <td>300.46</td>\n",
       "    </tr>\n",
       "    <tr>\n",
       "      <th>1</th>\n",
       "      <td>2</td>\n",
       "      <td>Los Angeles</td>\n",
       "      <td>California</td>\n",
       "      <td>3795936</td>\n",
       "      <td>3895848</td>\n",
       "      <td>-0.0065</td>\n",
       "      <td>8068</td>\n",
       "      <td>470.52</td>\n",
       "    </tr>\n",
       "    <tr>\n",
       "      <th>2</th>\n",
       "      <td>3</td>\n",
       "      <td>Chicago</td>\n",
       "      <td>Illinois</td>\n",
       "      <td>2638159</td>\n",
       "      <td>2743329</td>\n",
       "      <td>-0.0099</td>\n",
       "      <td>11584</td>\n",
       "      <td>227.75</td>\n",
       "    </tr>\n",
       "    <tr>\n",
       "      <th>3</th>\n",
       "      <td>4</td>\n",
       "      <td>Houston</td>\n",
       "      <td>Texas</td>\n",
       "      <td>2319119</td>\n",
       "      <td>2299269</td>\n",
       "      <td>0.0021</td>\n",
       "      <td>3620</td>\n",
       "      <td>640.61</td>\n",
       "    </tr>\n",
       "    <tr>\n",
       "      <th>4</th>\n",
       "      <td>5</td>\n",
       "      <td>Phoenix</td>\n",
       "      <td>Arizona</td>\n",
       "      <td>1662607</td>\n",
       "      <td>1612459</td>\n",
       "      <td>0.0076</td>\n",
       "      <td>3208</td>\n",
       "      <td>518.33</td>\n",
       "    </tr>\n",
       "    <tr>\n",
       "      <th>...</th>\n",
       "      <td>...</td>\n",
       "      <td>...</td>\n",
       "      <td>...</td>\n",
       "      <td>...</td>\n",
       "      <td>...</td>\n",
       "      <td>...</td>\n",
       "      <td>...</td>\n",
       "      <td>...</td>\n",
       "    </tr>\n",
       "    <tr>\n",
       "      <th>295</th>\n",
       "      <td>296</td>\n",
       "      <td>Temecula</td>\n",
       "      <td>California</td>\n",
       "      <td>110878</td>\n",
       "      <td>110094</td>\n",
       "      <td>0.0018</td>\n",
       "      <td>2982</td>\n",
       "      <td>37.18</td>\n",
       "    </tr>\n",
       "    <tr>\n",
       "      <th>296</th>\n",
       "      <td>297</td>\n",
       "      <td>Pueblo</td>\n",
       "      <td>Colorado</td>\n",
       "      <td>110803</td>\n",
       "      <td>111899</td>\n",
       "      <td>-0.0025</td>\n",
       "      <td>1961</td>\n",
       "      <td>56.49</td>\n",
       "    </tr>\n",
       "    <tr>\n",
       "      <th>297</th>\n",
       "      <td>298</td>\n",
       "      <td>Sparks</td>\n",
       "      <td>Nevada</td>\n",
       "      <td>110801</td>\n",
       "      <td>108889</td>\n",
       "      <td>0.0043</td>\n",
       "      <td>3036</td>\n",
       "      <td>36.49</td>\n",
       "    </tr>\n",
       "    <tr>\n",
       "      <th>298</th>\n",
       "      <td>299</td>\n",
       "      <td>Miami Gardens</td>\n",
       "      <td>Florida</td>\n",
       "      <td>110463</td>\n",
       "      <td>111477</td>\n",
       "      <td>-0.0023</td>\n",
       "      <td>5979</td>\n",
       "      <td>18.48</td>\n",
       "    </tr>\n",
       "    <tr>\n",
       "      <th>299</th>\n",
       "      <td>300</td>\n",
       "      <td>Santa Maria</td>\n",
       "      <td>California</td>\n",
       "      <td>110055</td>\n",
       "      <td>109782</td>\n",
       "      <td>0.0006</td>\n",
       "      <td>4825</td>\n",
       "      <td>22.81</td>\n",
       "    </tr>\n",
       "  </tbody>\n",
       "</table>\n",
       "<p>300 rows × 8 columns</p>\n",
       "</div>"
      ],
      "text/plain": [
       "     Rank        US City    US State  Population 2024  Population 2020  \\\n",
       "0       1       New York    New York          8097282          8740292   \n",
       "1       2    Los Angeles  California          3795936          3895848   \n",
       "2       3        Chicago    Illinois          2638159          2743329   \n",
       "3       4        Houston       Texas          2319119          2299269   \n",
       "4       5        Phoenix     Arizona          1662607          1612459   \n",
       "..    ...            ...         ...              ...              ...   \n",
       "295   296       Temecula  California           110878           110094   \n",
       "296   297         Pueblo    Colorado           110803           111899   \n",
       "297   298         Sparks      Nevada           110801           108889   \n",
       "298   299  Miami Gardens     Florida           110463           111477   \n",
       "299   300    Santa Maria  California           110055           109782   \n",
       "\n",
       "     Annual Change  Density (/mile2)  Area (mile2)  \n",
       "0          -0.0195             26950        300.46  \n",
       "1          -0.0065              8068        470.52  \n",
       "2          -0.0099             11584        227.75  \n",
       "3           0.0021              3620        640.61  \n",
       "4           0.0076              3208        518.33  \n",
       "..             ...               ...           ...  \n",
       "295         0.0018              2982         37.18  \n",
       "296        -0.0025              1961         56.49  \n",
       "297         0.0043              3036         36.49  \n",
       "298        -0.0023              5979         18.48  \n",
       "299         0.0006              4825         22.81  \n",
       "\n",
       "[300 rows x 8 columns]"
      ]
     },
     "execution_count": 185,
     "metadata": {},
     "output_type": "execute_result"
    }
   ],
   "source": [
    "df"
   ]
  },
  {
   "cell_type": "code",
   "execution_count": 186,
   "id": "f1152c5d",
   "metadata": {},
   "outputs": [],
   "source": [
    "\n",
    "#Top Five States with Highest Poppulation\n",
    "df1=df.groupby('US State',as_index=False)['Population 2024'].sum().sort_values(by='Population 2024',ascending=False).head()"
   ]
  },
  {
   "cell_type": "code",
   "execution_count": 187,
   "id": "00404937",
   "metadata": {},
   "outputs": [
    {
     "data": {
      "text/html": [
       "<div>\n",
       "<style scoped>\n",
       "    .dataframe tbody tr th:only-of-type {\n",
       "        vertical-align: middle;\n",
       "    }\n",
       "\n",
       "    .dataframe tbody tr th {\n",
       "        vertical-align: top;\n",
       "    }\n",
       "\n",
       "    .dataframe thead th {\n",
       "        text-align: right;\n",
       "    }\n",
       "</style>\n",
       "<table border=\"1\" class=\"dataframe\">\n",
       "  <thead>\n",
       "    <tr style=\"text-align: right;\">\n",
       "      <th></th>\n",
       "      <th>US State</th>\n",
       "      <th>Population 2024</th>\n",
       "    </tr>\n",
       "  </thead>\n",
       "  <tbody>\n",
       "    <tr>\n",
       "      <th>4</th>\n",
       "      <td>California</td>\n",
       "      <td>18244451</td>\n",
       "    </tr>\n",
       "    <tr>\n",
       "      <th>41</th>\n",
       "      <td>Texas</td>\n",
       "      <td>13756588</td>\n",
       "    </tr>\n",
       "    <tr>\n",
       "      <th>30</th>\n",
       "      <td>New York</td>\n",
       "      <td>8928795</td>\n",
       "    </tr>\n",
       "    <tr>\n",
       "      <th>8</th>\n",
       "      <td>Florida</td>\n",
       "      <td>5396156</td>\n",
       "    </tr>\n",
       "    <tr>\n",
       "      <th>2</th>\n",
       "      <td>Arizona</td>\n",
       "      <td>4569930</td>\n",
       "    </tr>\n",
       "  </tbody>\n",
       "</table>\n",
       "</div>"
      ],
      "text/plain": [
       "      US State  Population 2024\n",
       "4   California         18244451\n",
       "41       Texas         13756588\n",
       "30    New York          8928795\n",
       "8      Florida          5396156\n",
       "2      Arizona          4569930"
      ]
     },
     "execution_count": 187,
     "metadata": {},
     "output_type": "execute_result"
    }
   ],
   "source": [
    "df1"
   ]
  },
  {
   "cell_type": "code",
   "execution_count": 188,
   "id": "74abbb1b",
   "metadata": {},
   "outputs": [
    {
     "data": {
      "text/html": [
       "<div>\n",
       "<style scoped>\n",
       "    .dataframe tbody tr th:only-of-type {\n",
       "        vertical-align: middle;\n",
       "    }\n",
       "\n",
       "    .dataframe tbody tr th {\n",
       "        vertical-align: top;\n",
       "    }\n",
       "\n",
       "    .dataframe thead th {\n",
       "        text-align: right;\n",
       "    }\n",
       "</style>\n",
       "<table border=\"1\" class=\"dataframe\">\n",
       "  <thead>\n",
       "    <tr style=\"text-align: right;\">\n",
       "      <th></th>\n",
       "      <th>US City</th>\n",
       "      <th>Population 2024</th>\n",
       "    </tr>\n",
       "  </thead>\n",
       "  <tbody>\n",
       "    <tr>\n",
       "      <th>171</th>\n",
       "      <td>New York</td>\n",
       "      <td>8097282</td>\n",
       "    </tr>\n",
       "    <tr>\n",
       "      <th>138</th>\n",
       "      <td>Los Angeles</td>\n",
       "      <td>3795936</td>\n",
       "    </tr>\n",
       "    <tr>\n",
       "      <th>45</th>\n",
       "      <td>Chicago</td>\n",
       "      <td>2638159</td>\n",
       "    </tr>\n",
       "    <tr>\n",
       "      <th>108</th>\n",
       "      <td>Houston</td>\n",
       "      <td>2319119</td>\n",
       "    </tr>\n",
       "    <tr>\n",
       "      <th>198</th>\n",
       "      <td>Phoenix</td>\n",
       "      <td>1662607</td>\n",
       "    </tr>\n",
       "  </tbody>\n",
       "</table>\n",
       "</div>"
      ],
      "text/plain": [
       "         US City  Population 2024\n",
       "171     New York          8097282\n",
       "138  Los Angeles          3795936\n",
       "45       Chicago          2638159\n",
       "108      Houston          2319119\n",
       "198      Phoenix          1662607"
      ]
     },
     "execution_count": 188,
     "metadata": {},
     "output_type": "execute_result"
    }
   ],
   "source": [
    "\n",
    "#Top Five cities with Highest Poppulation\n",
    "cities=df.groupby('US City',as_index=False)['Population 2024'].sum().sort_values(by='Population 2024',ascending=False).head()\n",
    "cities"
   ]
  },
  {
   "cell_type": "code",
   "execution_count": 189,
   "id": "1e69c940",
   "metadata": {},
   "outputs": [
    {
     "data": {
      "text/html": [
       "<div>\n",
       "<style scoped>\n",
       "    .dataframe tbody tr th:only-of-type {\n",
       "        vertical-align: middle;\n",
       "    }\n",
       "\n",
       "    .dataframe tbody tr th {\n",
       "        vertical-align: top;\n",
       "    }\n",
       "\n",
       "    .dataframe thead th {\n",
       "        text-align: right;\n",
       "    }\n",
       "</style>\n",
       "<table border=\"1\" class=\"dataframe\">\n",
       "  <thead>\n",
       "    <tr style=\"text-align: right;\">\n",
       "      <th></th>\n",
       "      <th>US State</th>\n",
       "      <th>Population 2020</th>\n",
       "    </tr>\n",
       "  </thead>\n",
       "  <tbody>\n",
       "    <tr>\n",
       "      <th>0</th>\n",
       "      <td>Alabama</td>\n",
       "      <td>907661</td>\n",
       "    </tr>\n",
       "    <tr>\n",
       "      <th>1</th>\n",
       "      <td>Alaska</td>\n",
       "      <td>290893</td>\n",
       "    </tr>\n",
       "    <tr>\n",
       "      <th>2</th>\n",
       "      <td>Arizona</td>\n",
       "      <td>4411668</td>\n",
       "    </tr>\n",
       "    <tr>\n",
       "      <th>3</th>\n",
       "      <td>Arkansas</td>\n",
       "      <td>202634</td>\n",
       "    </tr>\n",
       "    <tr>\n",
       "      <th>4</th>\n",
       "      <td>California</td>\n",
       "      <td>18563156</td>\n",
       "    </tr>\n",
       "  </tbody>\n",
       "</table>\n",
       "</div>"
      ],
      "text/plain": [
       "     US State  Population 2020\n",
       "0     Alabama           907661\n",
       "1      Alaska           290893\n",
       "2     Arizona          4411668\n",
       "3    Arkansas           202634\n",
       "4  California         18563156"
      ]
     },
     "execution_count": 189,
     "metadata": {},
     "output_type": "execute_result"
    }
   ],
   "source": [
    "#Top Five States with Highest Poppulation\n",
    "states=df.groupby('US State',as_index=False)['Population 2020'].sum().head()\n",
    "states"
   ]
  },
  {
   "cell_type": "code",
   "execution_count": 190,
   "id": "8304132a",
   "metadata": {},
   "outputs": [
    {
     "data": {
      "text/html": [
       "<div>\n",
       "<style scoped>\n",
       "    .dataframe tbody tr th:only-of-type {\n",
       "        vertical-align: middle;\n",
       "    }\n",
       "\n",
       "    .dataframe tbody tr th {\n",
       "        vertical-align: top;\n",
       "    }\n",
       "\n",
       "    .dataframe thead th {\n",
       "        text-align: right;\n",
       "    }\n",
       "</style>\n",
       "<table border=\"1\" class=\"dataframe\">\n",
       "  <thead>\n",
       "    <tr style=\"text-align: right;\">\n",
       "      <th></th>\n",
       "      <th>US City</th>\n",
       "      <th>Population 2020</th>\n",
       "    </tr>\n",
       "  </thead>\n",
       "  <tbody>\n",
       "    <tr>\n",
       "      <th>0</th>\n",
       "      <td>Abilene</td>\n",
       "      <td>125417</td>\n",
       "    </tr>\n",
       "    <tr>\n",
       "      <th>1</th>\n",
       "      <td>Akron</td>\n",
       "      <td>190146</td>\n",
       "    </tr>\n",
       "    <tr>\n",
       "      <th>2</th>\n",
       "      <td>Albuquerque</td>\n",
       "      <td>564888</td>\n",
       "    </tr>\n",
       "    <tr>\n",
       "      <th>3</th>\n",
       "      <td>Alexandria</td>\n",
       "      <td>159139</td>\n",
       "    </tr>\n",
       "    <tr>\n",
       "      <th>4</th>\n",
       "      <td>Allen</td>\n",
       "      <td>105548</td>\n",
       "    </tr>\n",
       "  </tbody>\n",
       "</table>\n",
       "</div>"
      ],
      "text/plain": [
       "       US City  Population 2020\n",
       "0      Abilene           125417\n",
       "1        Akron           190146\n",
       "2  Albuquerque           564888\n",
       "3   Alexandria           159139\n",
       "4        Allen           105548"
      ]
     },
     "execution_count": 190,
     "metadata": {},
     "output_type": "execute_result"
    }
   ],
   "source": [
    "cities1=df.groupby('US City',as_index=False)['Population 2020'].sum().head()\n",
    "cities1"
   ]
  },
  {
   "cell_type": "code",
   "execution_count": 191,
   "id": "27b9f194",
   "metadata": {},
   "outputs": [],
   "source": [
    "#Total States\n",
    "df2= df['US State'].nunique()\n"
   ]
  },
  {
   "cell_type": "code",
   "execution_count": 192,
   "id": "ed03e597",
   "metadata": {},
   "outputs": [
    {
     "data": {
      "text/plain": [
       "46"
      ]
     },
     "execution_count": 192,
     "metadata": {},
     "output_type": "execute_result"
    }
   ],
   "source": [
    "df2"
   ]
  },
  {
   "cell_type": "code",
   "execution_count": 193,
   "id": "9dc5cca8",
   "metadata": {},
   "outputs": [],
   "source": [
    "#Total Cities\n",
    "df3=df['US City'].nunique()"
   ]
  },
  {
   "cell_type": "code",
   "execution_count": 194,
   "id": "c1288813",
   "metadata": {},
   "outputs": [
    {
     "data": {
      "text/plain": [
       "288"
      ]
     },
     "execution_count": 194,
     "metadata": {},
     "output_type": "execute_result"
    }
   ],
   "source": [
    "df3"
   ]
  },
  {
   "cell_type": "code",
   "execution_count": 195,
   "id": "ff526961",
   "metadata": {},
   "outputs": [
    {
     "name": "stdout",
     "output_type": "stream",
     "text": [
      "New York\n"
     ]
    }
   ],
   "source": [
    "# For example, to get the city at index 0\n",
    "city_at_index_0 = df.loc[0, 'US City']\n",
    "print(city_at_index_0)\n"
   ]
  },
  {
   "cell_type": "code",
   "execution_count": 196,
   "id": "35f91f3c",
   "metadata": {},
   "outputs": [],
   "source": [
    "#what is total popolation in 2024\n",
    "df4=df['Population 2024'].sum()"
   ]
  },
  {
   "cell_type": "code",
   "execution_count": 197,
   "id": "a6ee3baa",
   "metadata": {},
   "outputs": [
    {
     "data": {
      "text/plain": [
       "94673222"
      ]
     },
     "execution_count": 197,
     "metadata": {},
     "output_type": "execute_result"
    }
   ],
   "source": [
    "df4"
   ]
  },
  {
   "cell_type": "code",
   "execution_count": 198,
   "id": "cf861015",
   "metadata": {},
   "outputs": [],
   "source": [
    "df5=df['Population 2020'].sum()"
   ]
  },
  {
   "cell_type": "code",
   "execution_count": 199,
   "id": "8e81b54d",
   "metadata": {},
   "outputs": [
    {
     "data": {
      "text/plain": [
       "94830600"
      ]
     },
     "execution_count": 199,
     "metadata": {},
     "output_type": "execute_result"
    }
   ],
   "source": [
    "df5"
   ]
  },
  {
   "cell_type": "code",
   "execution_count": 200,
   "id": "639dca97",
   "metadata": {},
   "outputs": [
    {
     "name": "stdout",
     "output_type": "stream",
     "text": [
      "157378\n"
     ]
    }
   ],
   "source": [
    "print(df5-df4)"
   ]
  },
  {
   "cell_type": "code",
   "execution_count": 201,
   "id": "7a5dac1c",
   "metadata": {},
   "outputs": [
    {
     "data": {
      "text/plain": [
       "0.8891"
      ]
     },
     "execution_count": 201,
     "metadata": {},
     "output_type": "execute_result"
    }
   ],
   "source": [
    "df['Annual Change'].sum()"
   ]
  },
  {
   "cell_type": "code",
   "execution_count": 202,
   "id": "b19099ea",
   "metadata": {},
   "outputs": [
    {
     "data": {
      "text/plain": [
       "'New York'"
      ]
     },
     "execution_count": 202,
     "metadata": {},
     "output_type": "execute_result"
    }
   ],
   "source": [
    "#What is the name of the city with the highest population in 2024?\n",
    "max_population_city = df.loc[df['Population 2024'].idxmax(), 'US City']\n",
    "max_population_city"
   ]
  },
  {
   "cell_type": "code",
   "execution_count": 203,
   "id": "5ca2b7a3",
   "metadata": {},
   "outputs": [
    {
     "data": {
      "text/plain": [
       "0.0029636666666666665"
      ]
     },
     "execution_count": 203,
     "metadata": {},
     "output_type": "execute_result"
    }
   ],
   "source": [
    "#What is the average annual change in population?\n",
    "average_annual_change=df['Annual Change'].mean()\n",
    "average_annual_change"
   ]
  },
  {
   "cell_type": "code",
   "execution_count": 204,
   "id": "fc2f916a",
   "metadata": {},
   "outputs": [
    {
     "name": "stdout",
     "output_type": "stream",
     "text": [
      "Cities in California with their 2024 population:\n",
      "           US City  Population 2024\n",
      "1      Los Angeles          3795936\n",
      "7        San Diego          1388996\n",
      "12        San Jose           956433\n",
      "16   San Francisco           788478\n",
      "33          Fresno           546718\n",
      "..             ...              ...\n",
      "282       Richmond           113409\n",
      "283       Carlsbad           113018\n",
      "287       Murrieta           112122\n",
      "295       Temecula           110878\n",
      "299    Santa Maria           110055\n",
      "\n",
      "[61 rows x 2 columns]\n"
     ]
    }
   ],
   "source": [
    "#List all cities in California along with their 2024 population.\n",
    "california_cities = df[df['US State'] == 'California'][['US City', 'Population 2024']]\n",
    "print(\"Cities in California with their 2024 population:\")\n",
    "print(california_cities)\n"
   ]
  },
  {
   "cell_type": "code",
   "execution_count": 205,
   "id": "9c10a44d",
   "metadata": {},
   "outputs": [
    {
     "data": {
      "text/plain": [
       "30293.65"
      ]
     },
     "execution_count": 205,
     "metadata": {},
     "output_type": "execute_result"
    }
   ],
   "source": [
    "#Calculate the total area covered by all cities.\n",
    "total_area=df['Area (mile2)'].sum()\n",
    "total_area"
   ]
  },
  {
   "cell_type": "code",
   "execution_count": 206,
   "id": "e5b221e6",
   "metadata": {},
   "outputs": [
    {
     "data": {
      "text/plain": [
       "26950"
      ]
     },
     "execution_count": 206,
     "metadata": {},
     "output_type": "execute_result"
    }
   ],
   "source": [
    "#highest population density in 2024.\n",
    "highest_density=df['Density (/mile2)'].max()\n",
    "highest_density"
   ]
  },
  {
   "cell_type": "code",
   "execution_count": 207,
   "id": "401a0d01",
   "metadata": {},
   "outputs": [
    {
     "data": {
      "text/plain": [
       "'New York'"
      ]
     },
     "execution_count": 207,
     "metadata": {},
     "output_type": "execute_result"
    }
   ],
   "source": [
    "#Find the city with the highest population density in 2024.\n",
    "highest_population_density=df.loc[df['Density (/mile2)'].idxmax(),'US City']\n",
    "highest_population_density\n"
   ]
  },
  {
   "cell_type": "code",
   "execution_count": 208,
   "id": "d8ba3ed8",
   "metadata": {},
   "outputs": [
    {
     "data": {
      "text/plain": [
       "'California'"
      ]
     },
     "execution_count": 208,
     "metadata": {},
     "output_type": "execute_result"
    }
   ],
   "source": [
    "#Which state has the most cities listed in the dataset?\n",
    "most_cities_state = df['US State'].value_counts().idxmax()\n",
    "most_cities_state"
   ]
  },
  {
   "cell_type": "code",
   "execution_count": 209,
   "id": "c9f0200f",
   "metadata": {},
   "outputs": [
    {
     "name": "stdout",
     "output_type": "stream",
     "text": [
      "           US City  Population 2024  Population 2020  Population Growth\n",
      "0         New York          8097282          8740292            -643010\n",
      "1      Los Angeles          3795936          3895848             -99912\n",
      "2          Chicago          2638159          2743329            -105170\n",
      "3          Houston          2319119          2299269              19850\n",
      "4          Phoenix          1662607          1612459              50148\n",
      "..             ...              ...              ...                ...\n",
      "295       Temecula           110878           110094                784\n",
      "296         Pueblo           110803           111899              -1096\n",
      "297         Sparks           110801           108889               1912\n",
      "298  Miami Gardens           110463           111477              -1014\n",
      "299    Santa Maria           110055           109782                273\n",
      "\n",
      "[300 rows x 4 columns]\n"
     ]
    }
   ],
   "source": [
    "#Calculate the population growth from 2020 to 2024 for each city and add it as a new column.\n",
    "df['Population Growth'] = df['Population 2024'] - df['Population 2020']\n",
    "print(df[['US City', 'Population 2024', 'Population 2020', 'Population Growth']])"
   ]
  },
  {
   "cell_type": "code",
   "execution_count": 210,
   "id": "587b9b29",
   "metadata": {},
   "outputs": [
    {
     "name": "stdout",
     "output_type": "stream",
     "text": [
      "Cities with a negative annual change in population:\n",
      "           US City  Annual Change\n",
      "0         New York        -0.0195\n",
      "1      Los Angeles        -0.0065\n",
      "2          Chicago        -0.0099\n",
      "5     Philadelphia        -0.0108\n",
      "8           Dallas        -0.0001\n",
      "..             ...            ...\n",
      "288        Lansing        -0.0014\n",
      "289    Springfield        -0.0052\n",
      "293       Beaumont        -0.0079\n",
      "296         Pueblo        -0.0025\n",
      "298  Miami Gardens        -0.0023\n",
      "\n",
      "[135 rows x 2 columns]\n"
     ]
    }
   ],
   "source": [
    "#Filter and display cities that have a negative annual change in population\n",
    "negative_change_cities = df[df['Annual Change'] < 0][['US City', 'Annual Change']]\n",
    "print(\"Cities with a negative annual change in population:\")\n",
    "print(negative_change_cities)"
   ]
  },
  {
   "cell_type": "code",
   "execution_count": 211,
   "id": "71e62288",
   "metadata": {},
   "outputs": [
    {
     "data": {
      "text/plain": [
       "4093.86"
      ]
     },
     "execution_count": 211,
     "metadata": {},
     "output_type": "execute_result"
    }
   ],
   "source": [
    "#What is the average population density of all cities?\n",
    "avg_population_density=df['Density (/mile2)'].mean()\n",
    "avg_population_density\n"
   ]
  },
  {
   "cell_type": "code",
   "execution_count": 212,
   "id": "f4caa9e6",
   "metadata": {},
   "outputs": [
    {
     "data": {
      "text/plain": [
       "'California'"
      ]
     },
     "execution_count": 212,
     "metadata": {},
     "output_type": "execute_result"
    }
   ],
   "source": [
    "#Find the state with the highest total population in 2024.\n",
    "state_population = df.groupby('US State')['Population 2024'].sum()\n",
    "state_with_max_population = state_population.idxmax()\n",
    "state_with_max_population\n"
   ]
  },
  {
   "cell_type": "code",
   "execution_count": 213,
   "id": "378e81db",
   "metadata": {},
   "outputs": [
    {
     "data": {
      "text/html": [
       "<div>\n",
       "<style scoped>\n",
       "    .dataframe tbody tr th:only-of-type {\n",
       "        vertical-align: middle;\n",
       "    }\n",
       "\n",
       "    .dataframe tbody tr th {\n",
       "        vertical-align: top;\n",
       "    }\n",
       "\n",
       "    .dataframe thead th {\n",
       "        text-align: right;\n",
       "    }\n",
       "</style>\n",
       "<table border=\"1\" class=\"dataframe\">\n",
       "  <thead>\n",
       "    <tr style=\"text-align: right;\">\n",
       "      <th></th>\n",
       "      <th>US City</th>\n",
       "      <th>Population 2024</th>\n",
       "    </tr>\n",
       "  </thead>\n",
       "  <tbody>\n",
       "    <tr>\n",
       "      <th>0</th>\n",
       "      <td>New York</td>\n",
       "      <td>8097282</td>\n",
       "    </tr>\n",
       "    <tr>\n",
       "      <th>1</th>\n",
       "      <td>Los Angeles</td>\n",
       "      <td>3795936</td>\n",
       "    </tr>\n",
       "    <tr>\n",
       "      <th>2</th>\n",
       "      <td>Chicago</td>\n",
       "      <td>2638159</td>\n",
       "    </tr>\n",
       "    <tr>\n",
       "      <th>3</th>\n",
       "      <td>Houston</td>\n",
       "      <td>2319119</td>\n",
       "    </tr>\n",
       "    <tr>\n",
       "      <th>4</th>\n",
       "      <td>Phoenix</td>\n",
       "      <td>1662607</td>\n",
       "    </tr>\n",
       "    <tr>\n",
       "      <th>5</th>\n",
       "      <td>Philadelphia</td>\n",
       "      <td>1533828</td>\n",
       "    </tr>\n",
       "    <tr>\n",
       "      <th>6</th>\n",
       "      <td>San Antonio</td>\n",
       "      <td>1513974</td>\n",
       "    </tr>\n",
       "    <tr>\n",
       "      <th>7</th>\n",
       "      <td>San Diego</td>\n",
       "      <td>1388996</td>\n",
       "    </tr>\n",
       "    <tr>\n",
       "      <th>8</th>\n",
       "      <td>Dallas</td>\n",
       "      <td>1302753</td>\n",
       "    </tr>\n",
       "  </tbody>\n",
       "</table>\n",
       "</div>"
      ],
      "text/plain": [
       "        US City  Population 2024\n",
       "0      New York          8097282\n",
       "1   Los Angeles          3795936\n",
       "2       Chicago          2638159\n",
       "3       Houston          2319119\n",
       "4       Phoenix          1662607\n",
       "5  Philadelphia          1533828\n",
       "6   San Antonio          1513974\n",
       "7     San Diego          1388996\n",
       "8        Dallas          1302753"
      ]
     },
     "execution_count": 213,
     "metadata": {},
     "output_type": "execute_result"
    }
   ],
   "source": [
    "#List all cities with a population greater than 1 million in 2024.\n",
    "Population=df[df['Population 2024']>1000000][['US City','Population 2024']]\n",
    "Population"
   ]
  },
  {
   "cell_type": "code",
   "execution_count": 214,
   "id": "d3a6974b",
   "metadata": {},
   "outputs": [
    {
     "data": {
      "text/plain": [
       "US State\n",
       "Alabama                 12209\n",
       "Alaska                  -6424\n",
       "Arizona                 50148\n",
       "Arkansas                 1610\n",
       "California              14158\n",
       "Colorado                11110\n",
       "Connecticut              7416\n",
       "District of Columbia    10844\n",
       "Florida                 50941\n",
       "Georgia                 14569\n",
       "Hawaii                  -7623\n",
       "Idaho                   20477\n",
       "Illinois                 1101\n",
       "Indiana                  7485\n",
       "Iowa                    -2400\n",
       "Kansas                   7833\n",
       "Kentucky                -3298\n",
       "Louisiana                 447\n",
       "Maryland               -23891\n",
       "Massachusetts            3420\n",
       "Michigan                 -602\n",
       "Minnesota                1117\n",
       "Mississippi            -12384\n",
       "Missouri                 4030\n",
       "Montana                  4853\n",
       "Nebraska                 4165\n",
       "Nevada                  31409\n",
       "New Hampshire             -46\n",
       "New Jersey               -390\n",
       "New Mexico               8302\n",
       "New York                -1555\n",
       "North Carolina          47412\n",
       "North Dakota             9602\n",
       "Ohio                     9009\n",
       "Oklahoma                26252\n",
       "Oregon                   1986\n",
       "Pennsylvania              634\n",
       "Rhode Island               62\n",
       "South Carolina           8294\n",
       "South Dakota            17297\n",
       "Tennessee               17609\n",
       "Texas                   74717\n",
       "Utah                    11910\n",
       "Virginia                 5473\n",
       "Washington              19350\n",
       "Wisconsin                6801\n",
       "Name: Population Growth, dtype: int64"
      ]
     },
     "execution_count": 214,
     "metadata": {},
     "output_type": "execute_result"
    }
   ],
   "source": [
    "#Calculate the total population growth from 2020 to 2024 for each state.\n",
    "df['Population Growth']=df['Population 2024']-df['Population 2020']\n",
    "total_population_growth=df.groupby('US State')['Population Growth'].max()\n",
    "total_population_growth\n"
   ]
  },
  {
   "cell_type": "code",
   "execution_count": 215,
   "id": "7ca0db4d",
   "metadata": {},
   "outputs": [
    {
     "data": {
      "text/plain": [
       "'Santa Maria'"
      ]
     },
     "execution_count": 215,
     "metadata": {},
     "output_type": "execute_result"
    }
   ],
   "source": [
    "#Find the city with the lowest population in 2024 and display its details.\n",
    "lowest_population=df.loc[df['Population 2024'].idxmin(),'US City']\n",
    "lowest_population"
   ]
  },
  {
   "cell_type": "code",
   "execution_count": 216,
   "id": "7bf23960",
   "metadata": {},
   "outputs": [
    {
     "name": "stdout",
     "output_type": "stream",
     "text": [
      "City with the lowest population in 2024:\n",
      "Rank                         300\n",
      "US City              Santa Maria\n",
      "US State              California\n",
      "Population 2024           110055\n",
      "Population 2020           109782\n",
      "Annual Change             0.0006\n",
      "Density (/mile2)            4825\n",
      "Area (mile2)               22.81\n",
      "Population Growth            273\n",
      "Name: 299, dtype: object\n"
     ]
    }
   ],
   "source": [
    "min_population_city = df.loc[df['Population 2024'].idxmin()]\n",
    "print(\"City with the lowest population in 2024:\")\n",
    "print(min_population_city)\n"
   ]
  },
  {
   "cell_type": "code",
   "execution_count": 217,
   "id": "3fe809ec",
   "metadata": {},
   "outputs": [
    {
     "name": "stdout",
     "output_type": "stream",
     "text": [
      "The total population of cities in New York state in 2024 is 8928795.\n"
     ]
    }
   ],
   "source": [
    "ny_population_2024 = df[df['US State'] == 'New York']['Population 2024'].sum()\n",
    "print(f\"The total population of cities in New York state in 2024 is {ny_population_2024}.\")"
   ]
  },
  {
   "cell_type": "code",
   "execution_count": 218,
   "id": "ef16c970",
   "metadata": {},
   "outputs": [
    {
     "data": {
      "text/plain": [
       "<Axes: xlabel='US State', ylabel='Population 2024'>"
      ]
     },
     "execution_count": 218,
     "metadata": {},
     "output_type": "execute_result"
    },
    {
     "data": {
      "image/png": "[encoded data removed]",
      "text/plain": [
       "<Figure size 640x480 with 1 Axes>"
      ]
     },
     "metadata": {},
     "output_type": "display_data"
    }
   ],
   "source": [
    "#Exploratory Data Analysis\n",
    "#Top Five States with Highest Poppulation\n",
    "\n",
    "sns.barplot(x='US State',y='Population 2024',data=df1)"
   ]
  },
  {
   "cell_type": "code",
   "execution_count": 219,
   "id": "244a928d",
   "metadata": {},
   "outputs": [
    {
     "data": {
      "text/plain": [
       "<Axes: xlabel='US City', ylabel='Population 2024'>"
      ]
     },
     "execution_count": 219,
     "metadata": {},
     "output_type": "execute_result"
    },
    {
     "data": {
      "image/png": "[encoded data removed]",
      "text/plain": [
       "<Figure size 640x480 with 1 Axes>"
      ]
     },
     "metadata": {},
     "output_type": "display_data"
    }
   ],
   "source": [
    "#Top Five cities with Highest Poppulation\n",
    "\n",
    "sns.barplot(x='US City',y='Population 2024',data=cities,color='pink')"
   ]
  },
  {
   "cell_type": "code",
   "execution_count": 220,
   "id": "3336835f",
   "metadata": {},
   "outputs": [
    {
     "data": {
      "text/plain": [
       "<Axes: xlabel='US City', ylabel='Population 2020'>"
      ]
     },
     "execution_count": 220,
     "metadata": {},
     "output_type": "execute_result"
    },
    {
     "data": {
      "image/png": "[encoded data removed]",
      "text/plain": [
       "<Figure size 640x480 with 1 Axes>"
      ]
     },
     "metadata": {},
     "output_type": "display_data"
    }
   ],
   "source": [
    "sns.barplot(x='US City',y='Population 2020',data=cities1,color='brown')"
   ]
  },
  {
   "cell_type": "code",
   "execution_count": 221,
   "id": "731168bf",
   "metadata": {},
   "outputs": [
    {
     "data": {
      "text/plain": [
       "<Axes: xlabel='US State', ylabel='Population 2020'>"
      ]
     },
     "execution_count": 221,
     "metadata": {},
     "output_type": "execute_result"
    },
    {
     "data": {
      "image/png": "[encoded data removed]",
      "text/plain": [
       "<Figure size 640x480 with 1 Axes>"
      ]
     },
     "metadata": {},
     "output_type": "display_data"
    }
   ],
   "source": [
    "sns.barplot(x='US State',y='Population 2020',data=states,color='grey')"
   ]
  },
  {
   "cell_type": "code",
   "execution_count": 222,
   "id": "32899dbe",
   "metadata": {},
   "outputs": [
    {
     "data": {
      "text/html": [
       "<div>\n",
       "<style scoped>\n",
       "    .dataframe tbody tr th:only-of-type {\n",
       "        vertical-align: middle;\n",
       "    }\n",
       "\n",
       "    .dataframe tbody tr th {\n",
       "        vertical-align: top;\n",
       "    }\n",
       "\n",
       "    .dataframe thead th {\n",
       "        text-align: right;\n",
       "    }\n",
       "</style>\n",
       "<table border=\"1\" class=\"dataframe\">\n",
       "  <thead>\n",
       "    <tr style=\"text-align: right;\">\n",
       "      <th></th>\n",
       "      <th>Rank</th>\n",
       "      <th>US City</th>\n",
       "      <th>US State</th>\n",
       "      <th>Population 2024</th>\n",
       "      <th>Population 2020</th>\n",
       "      <th>Annual Change</th>\n",
       "      <th>Density (/mile2)</th>\n",
       "      <th>Area (mile2)</th>\n",
       "      <th>Population Growth</th>\n",
       "    </tr>\n",
       "  </thead>\n",
       "  <tbody>\n",
       "    <tr>\n",
       "      <th>0</th>\n",
       "      <td>1</td>\n",
       "      <td>New York</td>\n",
       "      <td>New York</td>\n",
       "      <td>8097282</td>\n",
       "      <td>8740292</td>\n",
       "      <td>-0.0195</td>\n",
       "      <td>26950</td>\n",
       "      <td>300.46</td>\n",
       "      <td>-643010</td>\n",
       "    </tr>\n",
       "    <tr>\n",
       "      <th>1</th>\n",
       "      <td>2</td>\n",
       "      <td>Los Angeles</td>\n",
       "      <td>California</td>\n",
       "      <td>3795936</td>\n",
       "      <td>3895848</td>\n",
       "      <td>-0.0065</td>\n",
       "      <td>8068</td>\n",
       "      <td>470.52</td>\n",
       "      <td>-99912</td>\n",
       "    </tr>\n",
       "    <tr>\n",
       "      <th>2</th>\n",
       "      <td>3</td>\n",
       "      <td>Chicago</td>\n",
       "      <td>Illinois</td>\n",
       "      <td>2638159</td>\n",
       "      <td>2743329</td>\n",
       "      <td>-0.0099</td>\n",
       "      <td>11584</td>\n",
       "      <td>227.75</td>\n",
       "      <td>-105170</td>\n",
       "    </tr>\n",
       "    <tr>\n",
       "      <th>3</th>\n",
       "      <td>4</td>\n",
       "      <td>Houston</td>\n",
       "      <td>Texas</td>\n",
       "      <td>2319119</td>\n",
       "      <td>2299269</td>\n",
       "      <td>0.0021</td>\n",
       "      <td>3620</td>\n",
       "      <td>640.61</td>\n",
       "      <td>19850</td>\n",
       "    </tr>\n",
       "    <tr>\n",
       "      <th>4</th>\n",
       "      <td>5</td>\n",
       "      <td>Phoenix</td>\n",
       "      <td>Arizona</td>\n",
       "      <td>1662607</td>\n",
       "      <td>1612459</td>\n",
       "      <td>0.0076</td>\n",
       "      <td>3208</td>\n",
       "      <td>518.33</td>\n",
       "      <td>50148</td>\n",
       "    </tr>\n",
       "  </tbody>\n",
       "</table>\n",
       "</div>"
      ],
      "text/plain": [
       "   Rank      US City    US State  Population 2024  Population 2020  \\\n",
       "0     1     New York    New York          8097282          8740292   \n",
       "1     2  Los Angeles  California          3795936          3895848   \n",
       "2     3      Chicago    Illinois          2638159          2743329   \n",
       "3     4      Houston       Texas          2319119          2299269   \n",
       "4     5      Phoenix     Arizona          1662607          1612459   \n",
       "\n",
       "   Annual Change  Density (/mile2)  Area (mile2)  Population Growth  \n",
       "0        -0.0195             26950        300.46            -643010  \n",
       "1        -0.0065              8068        470.52             -99912  \n",
       "2        -0.0099             11584        227.75            -105170  \n",
       "3         0.0021              3620        640.61              19850  \n",
       "4         0.0076              3208        518.33              50148  "
      ]
     },
     "execution_count": 222,
     "metadata": {},
     "output_type": "execute_result"
    }
   ],
   "source": [
    "df.head()"
   ]
  },
  {
   "cell_type": "code",
   "execution_count": 223,
   "id": "6bd7209f",
   "metadata": {},
   "outputs": [
    {
     "data": {
      "text/plain": [
       "Rank                 0\n",
       "US City              0\n",
       "US State             0\n",
       "Population 2024      0\n",
       "Population 2020      0\n",
       "Annual Change        0\n",
       "Density (/mile2)     0\n",
       "Area (mile2)         0\n",
       "Population Growth    0\n",
       "dtype: int64"
      ]
     },
     "execution_count": 223,
     "metadata": {},
     "output_type": "execute_result"
    }
   ],
   "source": [
    "\n",
    "df.isnull().sum()"
   ]
  },
  {
   "cell_type": "markdown",
   "id": "0ae984bc",
   "metadata": {},
   "source": [
    "# Linear Regression"
   ]
  },
  {
   "cell_type": "code",
   "execution_count": 224,
   "id": "45ea24b9",
   "metadata": {},
   "outputs": [],
   "source": [
    "from sklearn.model_selection import train_test_split\n",
    "\n"
   ]
  },
  {
   "cell_type": "markdown",
   "id": "7b7083f7",
   "metadata": {},
   "source": [
    "# Train Test Split"
   ]
  },
  {
   "cell_type": "code",
   "execution_count": 225,
   "id": "f8303a26",
   "metadata": {},
   "outputs": [
    {
     "name": "stdout",
     "output_type": "stream",
     "text": [
      "Shape of X: (300, 4)\n",
      "Length of y: 300\n"
     ]
    }
   ],
   "source": [
    "# Example: Selecting features and target variable\n",
    "X = df[['Population 2024', 'Population 2020', 'Density (/mile2)', 'Area (mile2)']]  # Features\n",
    "y = df['Annual Change']  # Target variable\n",
    "# Check shapes\n",
    "print(f\"Shape of X: {X.shape}\")\n",
    "print(f\"Length of y: {len(y)}\")\n"
   ]
  },
  {
   "cell_type": "code",
   "execution_count": 226,
   "id": "21923172",
   "metadata": {},
   "outputs": [],
   "source": [
    "X_train,X_test,y_train,y_test=train_test_split(X,y,test_size=0.3,random_state=42)"
   ]
  },
  {
   "cell_type": "markdown",
   "id": "19fe7705",
   "metadata": {},
   "source": [
    "# Model Training"
   ]
  },
  {
   "cell_type": "code",
   "execution_count": 227,
   "id": "98685985",
   "metadata": {},
   "outputs": [],
   "source": [
    "from sklearn.linear_model import LinearRegression"
   ]
  },
  {
   "cell_type": "code",
   "execution_count": 228,
   "id": "3fe7d0fb",
   "metadata": {},
   "outputs": [],
   "source": [
    "model=LinearRegression()"
   ]
  },
  {
   "cell_type": "code",
   "execution_count": 229,
   "id": "29871ce1",
   "metadata": {},
   "outputs": [
    {
     "data": {
      "text/html": [
       "<style>#sk-container-id-3 {color: black;}#sk-container-id-3 pre{padding: 0;}#sk-container-id-3 div.sk-toggleable {background-color: white;}#sk-container-id-3 label.sk-toggleable__label {cursor: pointer;display: block;width: 100%;margin-bottom: 0;padding: 0.3em;box-sizing: border-box;text-align: center;}#sk-container-id-3 label.sk-toggleable__label-arrow:before {content: \"▸\";float: left;margin-right: 0.25em;color: #696969;}#sk-container-id-3 label.sk-toggleable__label-arrow:hover:before {color: black;}#sk-container-id-3 div.sk-estimator:hover label.sk-toggleable__label-arrow:before {color: black;}#sk-container-id-3 div.sk-toggleable__content {max-height: 0;max-width: 0;overflow: hidden;text-align: left;background-color: #f0f8ff;}#sk-container-id-3 div.sk-toggleable__content pre {margin: 0.2em;color: black;border-radius: 0.25em;background-color: #f0f8ff;}#sk-container-id-3 input.sk-toggleable__control:checked~div.sk-toggleable__content {max-height: 200px;max-width: 100%;overflow: auto;}#sk-container-id-3 input.sk-toggleable__control:checked~label.sk-toggleable__label-arrow:before {content: \"▾\";}#sk-container-id-3 div.sk-estimator input.sk-toggleable__control:checked~label.sk-toggleable__label {background-color: #d4ebff;}#sk-container-id-3 div.sk-label input.sk-toggleable__control:checked~label.sk-toggleable__label {background-color: #d4ebff;}#sk-container-id-3 input.sk-hidden--visually {border: 0;clip: rect(1px 1px 1px 1px);clip: rect(1px, 1px, 1px, 1px);height: 1px;margin: -1px;overflow: hidden;padding: 0;position: absolute;width: 1px;}#sk-container-id-3 div.sk-estimator {font-family: monospace;background-color: #f0f8ff;border: 1px dotted black;border-radius: 0.25em;box-sizing: border-box;margin-bottom: 0.5em;}#sk-container-id-3 div.sk-estimator:hover {background-color: #d4ebff;}#sk-container-id-3 div.sk-parallel-item::after {content: \"\";width: 100%;border-bottom: 1px solid gray;flex-grow: 1;}#sk-container-id-3 div.sk-label:hover label.sk-toggleable__label {background-color: #d4ebff;}#sk-container-id-3 div.sk-serial::before {content: \"\";position: absolute;border-left: 1px solid gray;box-sizing: border-box;top: 0;bottom: 0;left: 50%;z-index: 0;}#sk-container-id-3 div.sk-serial {display: flex;flex-direction: column;align-items: center;background-color: white;padding-right: 0.2em;padding-left: 0.2em;position: relative;}#sk-container-id-3 div.sk-item {position: relative;z-index: 1;}#sk-container-id-3 div.sk-parallel {display: flex;align-items: stretch;justify-content: center;background-color: white;position: relative;}#sk-container-id-3 div.sk-item::before, #sk-container-id-3 div.sk-parallel-item::before {content: \"\";position: absolute;border-left: 1px solid gray;box-sizing: border-box;top: 0;bottom: 0;left: 50%;z-index: -1;}#sk-container-id-3 div.sk-parallel-item {display: flex;flex-direction: column;z-index: 1;position: relative;background-color: white;}#sk-container-id-3 div.sk-parallel-item:first-child::after {align-self: flex-end;width: 50%;}#sk-container-id-3 div.sk-parallel-item:last-child::after {align-self: flex-start;width: 50%;}#sk-container-id-3 div.sk-parallel-item:only-child::after {width: 0;}#sk-container-id-3 div.sk-dashed-wrapped {border: 1px dashed gray;margin: 0 0.4em 0.5em 0.4em;box-sizing: border-box;padding-bottom: 0.4em;background-color: white;}#sk-container-id-3 div.sk-label label {font-family: monospace;font-weight: bold;display: inline-block;line-height: 1.2em;}#sk-container-id-3 div.sk-label-container {text-align: center;}#sk-container-id-3 div.sk-container {/* jupyter's `normalize.less` sets `[hidden] { display: none; }` but bootstrap.min.css set `[hidden] { display: none !important; }` so we also need the `!important` here to be able to override the default hidden behavior on the sphinx rendered scikit-learn.org. See: https://github.com/scikit-learn/scikit-learn/issues/21755 */display: inline-block !important;position: relative;}#sk-container-id-3 div.sk-text-repr-fallback {display: none;}</style><div id=\"sk-container-id-3\" class=\"sk-top-container\"><div class=\"sk-text-repr-fallback\"><pre>LinearRegression()</pre><b>In a Jupyter environment, please rerun this cell to show the HTML representation or trust the notebook. <br />On GitHub, the HTML representation is unable to render, please try loading this page with nbviewer.org.</b></div><div class=\"sk-container\" hidden><div class=\"sk-item\"><div class=\"sk-estimator sk-toggleable\"><input class=\"sk-toggleable__control sk-hidden--visually\" id=\"sk-estimator-id-3\" type=\"checkbox\" checked><label for=\"sk-estimator-id-3\" class=\"sk-toggleable__label sk-toggleable__label-arrow\">LinearRegression</label><div class=\"sk-toggleable__content\"><pre>LinearRegression()</pre></div></div></div></div></div>"
      ],
      "text/plain": [
       "LinearRegression()"
      ]
     },
     "execution_count": 229,
     "metadata": {},
     "output_type": "execute_result"
    }
   ],
   "source": [
    "model.fit(X_train,y_train)"
   ]
  },
  {
   "cell_type": "markdown",
   "id": "6eda29a7",
   "metadata": {},
   "source": [
    "# Predictions"
   ]
  },
  {
   "cell_type": "code",
   "execution_count": 230,
   "id": "ee3b9fe3",
   "metadata": {},
   "outputs": [],
   "source": [
    "prediction=model.predict(X_test)"
   ]
  },
  {
   "cell_type": "code",
   "execution_count": 231,
   "id": "a5640030",
   "metadata": {},
   "outputs": [
    {
     "data": {
      "text/plain": [
       "array([ 0.006153  ,  0.00368959,  0.00310521,  0.01246275,  0.0051225 ,\n",
       "        0.00375778,  0.001595  ,  0.00180666, -0.00349557,  0.00082086,\n",
       "        0.00259877,  0.00754064,  0.00294991, -0.00044569,  0.00368652,\n",
       "        0.00223914,  0.00329417,  0.00261404,  0.00459083,  0.00744085,\n",
       "        0.00473622,  0.00342701,  0.00503872,  0.00206369,  0.00351771,\n",
       "        0.00334284,  0.00310579,  0.00298162,  0.0011514 , -0.00144756,\n",
       "        0.00685819,  0.00220426,  0.00566325, -0.00782089, -0.00555632,\n",
       "       -0.00593472,  0.01270974,  0.00500185,  0.00697098,  0.00421126,\n",
       "        0.00197196,  0.00370125,  0.00544856,  0.00227383,  0.00667155,\n",
       "        0.00385233,  0.00342284,  0.0041967 ,  0.00334312,  0.00233155,\n",
       "        0.0016227 ,  0.00149991,  0.00388519,  0.00498802,  0.00314492,\n",
       "       -0.00300397,  0.0113746 ,  0.00454653,  0.0031196 ,  0.00446898,\n",
       "        0.00447114,  0.00280812,  0.02637959, -0.00320129,  0.00253427,\n",
       "        0.00466054,  0.00644431,  0.0006898 , -0.00032354,  0.00460321,\n",
       "       -0.00389228,  0.00192925,  0.00368115,  0.00283451,  0.00078511,\n",
       "        0.00157594,  0.00558758,  0.0039327 ,  0.00222237,  0.00283911,\n",
       "        0.00827803,  0.00173557,  0.00784537,  0.00448038, -0.00192913,\n",
       "        0.00629981,  0.00178019, -0.01327092,  0.00549254,  0.02244179])"
      ]
     },
     "execution_count": 231,
     "metadata": {},
     "output_type": "execute_result"
    }
   ],
   "source": [
    "prediction"
   ]
  },
  {
   "cell_type": "markdown",
   "id": "47a7ab6a",
   "metadata": {},
   "source": [
    "# Model Evaluation"
   ]
  },
  {
   "cell_type": "code",
   "execution_count": 232,
   "id": "506735f6",
   "metadata": {},
   "outputs": [],
   "source": [
    "from sklearn import metrics"
   ]
  },
  {
   "cell_type": "code",
   "execution_count": 233,
   "id": "5f4f1d1e",
   "metadata": {},
   "outputs": [
    {
     "name": "stdout",
     "output_type": "stream",
     "text": [
      "MAE: 0.005879738584361465\n",
      "MSE: 7.680540551460559e-05\n",
      "RMSE: 0.00876386932322736\n"
     ]
    }
   ],
   "source": [
    "print('MAE:', metrics.mean_absolute_error(y_test, prediction))\n",
    "print('MSE:', metrics.mean_squared_error(y_test, prediction))\n",
    "print('RMSE:', np.sqrt(metrics.mean_squared_error(y_test, prediction)))"
   ]
  },
  {
   "cell_type": "code",
   "execution_count": 234,
   "id": "10db1bf4",
   "metadata": {},
   "outputs": [
    {
     "data": {
      "text/plain": [
       "<matplotlib.collections.PathCollection at 0x25ea18b06d0>"
      ]
     },
     "execution_count": 234,
     "metadata": {},
     "output_type": "execute_result"
    },
    {
     "data": {
      "image/png": "[encoded data removed]",
      "text/plain": [
       "<Figure size 640x480 with 1 Axes>"
      ]
     },
     "metadata": {},
     "output_type": "display_data"
    }
   ],
   "source": [
    "plt.scatter(y_test,prediction)"
   ]
  },
  {
   "cell_type": "code",
   "execution_count": 235,
   "id": "f635f8d2",
   "metadata": {},
   "outputs": [
    {
     "name": "stderr",
     "output_type": "stream",
     "text": [
      "C:\\Users\\saipr\\AppData\\Local\\Temp\\ipykernel_26700\\1219987323.py:1: UserWarning: \n",
      "\n",
      "`distplot` is a deprecated function and will be removed in seaborn v0.14.0.\n",
      "\n",
      "Please adapt your code to use either `displot` (a figure-level function with\n",
      "similar flexibility) or `histplot` (an axes-level function for histograms).\n",
      "\n",
      "For a guide to updating your code to use the new functions, please see\n",
      "https://gist.github.com/mwaskom/de44147ed2974457ad6372750bbe5751\n",
      "\n",
      "  sns.distplot((y_test-prediction),bins=50);\n"
     ]
    },
    {
     "data": {
      "image/png": "[encoded data removed]",
      "text/plain": [
       "<Figure size 640x480 with 1 Axes>"
      ]
     },
     "metadata": {},
     "output_type": "display_data"
    }
   ],
   "source": [
    "sns.distplot((y_test-prediction),bins=50);"
   ]
  },
  {
   "cell_type": "markdown",
   "id": "4ea5a971",
   "metadata": {},
   "source": [
    "# Prediction for New data"
   ]
  },
  {
   "cell_type": "code",
   "execution_count": 236,
   "id": "2c0e7cff",
   "metadata": {},
   "outputs": [
    {
     "name": "stdout",
     "output_type": "stream",
     "text": [
      "New data:    Population 2024  Population 2020  Density (/mile2)  Area (mile2)\n",
      "0          3000000          3100000              8000           400\n",
      "Predictions: [0.0074558]\n"
     ]
    }
   ],
   "source": [
    "# New data for prediction\n",
    "new_data = {\n",
    "    'Population 2024': [3000000],\n",
    "    'Population 2020': [3100000],\n",
    "    'Density (/mile2)': [8000],\n",
    "    'Area (mile2)': [400]\n",
    "}\n",
    "new_df = pd.DataFrame(new_data)\n",
    "\n",
    "# Make predictions on the new data\n",
    "predictions = model.predict(new_df)\n",
    "\n",
    "# Print the predictions\n",
    "print(f\"New data: {new_df}\")\n",
    "print(f\"Predictions: {predictions}\")"
   ]
  },
  {
   "cell_type": "code",
   "execution_count": null,
   "id": "6bd6324a",
   "metadata": {},
   "outputs": [],
   "source": []
  }
 ],
 "metadata": {
  "kernelspec": {
   "display_name": "Python 3 (ipykernel)",
   "language": "python",
   "name": "python3"
  },
  "language_info": {
   "codemirror_mode": {
    "name": "ipython",
    "version": 3
   },
   "file_extension": ".py",
   "mimetype": "text/x-python",
   "name": "python",
   "nbconvert_exporter": "python",
   "pygments_lexer": "ipython3",
   "version": "3.10.9"
  }
 },
 "nbformat": 4,
 "nbformat_minor": 5
}
